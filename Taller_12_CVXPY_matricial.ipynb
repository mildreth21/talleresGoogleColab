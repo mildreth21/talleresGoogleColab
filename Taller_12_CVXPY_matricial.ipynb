{
  "nbformat": 4,
  "nbformat_minor": 0,
  "metadata": {
    "colab": {
      "provenance": [],
      "include_colab_link": true
    },
    "kernelspec": {
      "name": "python3",
      "display_name": "Python 3"
    }
  },
  "cells": [
    {
      "cell_type": "markdown",
      "metadata": {
        "id": "view-in-github",
        "colab_type": "text"
      },
      "source": [
        "<a href=\"https://colab.research.google.com/github/mildreth21/talleresGoogleColab/blob/main/Taller_12_CVXPY_matricial.ipynb\" target=\"_parent\"><img src=\"https://colab.research.google.com/assets/colab-badge.svg\" alt=\"Open In Colab\"/></a>"
      ]
    },
    {
      "cell_type": "markdown",
      "source": [
        "## «*La gente tiende a olvidar sus deberes, pero recuerda sus derechos*».\n",
        "### [Indira Gandhi](https://es.wikipedia.org/wiki/Indira_Gandhi)"
      ],
      "metadata": {
        "id": "cr-wZpWhC2dt"
      }
    },
    {
      "metadata": {
        "id": "tpFFfpLa7D_R"
      },
      "cell_type": "markdown",
      "source": [
        "# Taller 12 CVXPY matrices\n",
        "\n",
        "En este taller aprenderá los conceptos básicos de Python 3 relativos a la librería CVXPY.\n",
        "\n",
        "CVXPY  **no es una librería nativa** de Python por lo que **requiere ser instalada antes de ser invocada**. Sin embargo, esta librería sí está preinstalada en Google Colaboratory por lo que basta invocarla para poder usar sus funcionalidades.\n",
        "\n",
        "Puede consultar mayor información en: [CVXPY](https://www.cvxpy.org/)\n"
      ]
    },
    {
      "metadata": {
        "id": "Qqb6pVqSpExP"
      },
      "cell_type": "markdown",
      "source": [
        "# Tipos de variables en CVXPY (pendiente actualizar)\n",
        "\n",
        "Incluir dual matricial: https://www.cvxpy.org/examples/basic/linear_program.html\n",
        "\n",
        "CVXPY permite crear variables, parámetros escalares y arreglos (vectores y matrices); para tal efecto sigue la sintaxis (formatos) de la librería [NumPy](https://docs.scipy.org/doc/numpy/index.html).\n"
      ]
    },
    {
      "metadata": {
        "id": "jFPNMR1rpR-c"
      },
      "cell_type": "code",
      "source": [
        "# Importar la librería que se va a utilizar\n",
        "import cvxpy as cvx\n",
        "\n",
        "#  Crear una variable de tipo escalar\n",
        "a = cvx.Variable()\n",
        "\n",
        "# Crear un parámetro con un valor específico\n",
        "b = 8\n",
        "\n",
        "# Crear una variable de tipo arreglo (m,1). Contiene \"m\" filas y una columna\n",
        "c = cvx.Variable((3,1))\n",
        "\n",
        "# Crear una parámetro de tipo arreglo (m,1) con valores específicos\n",
        "d = [3, 2, 4]\n",
        "\n",
        "# Crear una variable de tipo arreglo (m,n). Contiene \"m\" filas y \"n\" columnas\n",
        "e = cvx.Variable((4, 3))\n",
        "\n",
        "# Crear un parámetro de tipo arreglo (m,n) con valores específicos\n",
        "e = [[5, 6, 7],[2, 6, 9],[3, 8, 5],[9, 5,1 ]]"
      ],
      "execution_count": null,
      "outputs": []
    },
    {
      "metadata": {
        "id": "-EQuW_Sa4VYl"
      },
      "cell_type": "markdown",
      "source": [
        "# Resolver un ejercicio en forma algebraica y en forma matricial\n",
        "\n",
        "Ejercicio a resolver:\n",
        "\n",
        "Minimizar 3x + 8y\n",
        "\n",
        "sujeto a:\n",
        "\n",
        "x + y >= 50\n",
        "\n",
        "x - y <= 20\n",
        "\n",
        "x, y no negativos\n"
      ]
    },
    {
      "cell_type": "markdown",
      "source": [
        "## Solución algebráica"
      ],
      "metadata": {
        "id": "qUmvXyWHhFN2"
      }
    },
    {
      "metadata": {
        "id": "JnS1jB640lF4"
      },
      "cell_type": "code",
      "source": [
        "# Este código presenta la solución de un ejercicio de forma algebraica\n",
        "\n",
        "print (\"Solución algebraica\")\n",
        "# Importar la librería que se va a utilizar\n",
        "import cvxpy as cvx\n",
        "\n",
        "# Crear las variables a optimizar\n",
        "x = cvx.Variable()\n",
        "y = cvx.Variable()\n",
        "\n",
        "# Definir la función objetivo\n",
        "obj_00 = cvx.Minimize(3*x + 8*y)\n",
        "\n",
        "# Establecer las restricciones\n",
        "restricciones_00 = [\n",
        "x + y >= 50,\n",
        "x - y <= 20,\n",
        "x >= 0,\n",
        "y >= 0\n",
        "]\n",
        "\n",
        "# Configurar el problema\n",
        "prob_00 = cvx.Problem(obj_00, restricciones_00)\n",
        "\n",
        "# Obtener el valor óptimo, actualizar el estado del problema\n",
        "#y los valores de todas las variables del problema\n",
        "prob_00.solve()\n",
        "\n",
        "# Mostrar el estado de la solución algebraica\n",
        "print(\"Estado de la solución algebraica:\", prob_00.status)\n",
        "\n",
        "# Mostrar el valor óptimo de la función objetivo algebraica\n",
        "print(\"Valor óptimo de la función objetivo algebraica:\", prob_00.value)\n",
        "\n",
        "# Mostrar los valores óptimos de las variables de decisión algebraica\n",
        "print(\"Valores óptimos de las variables de decisión algebraica:\",\n",
        "      x.value, y.value, \"\\n\")"
      ],
      "execution_count": null,
      "outputs": []
    },
    {
      "metadata": {
        "id": "v4t0WmbX7uUp"
      },
      "cell_type": "markdown",
      "source": [
        "## Solución matricial\n",
        "\n",
        "El siguiente código resuelve el mismo ejercicio de forma matricial.\n",
        "\n",
        "Para resolverlo se realizan los siguientes ajustes:\n",
        "\n",
        "*  se crea un arreglo con las variables de decisión (**x**)\n",
        "*  se define un arreglo con los coeficientes de costos (**c**)\n",
        "*  se define el arreglo con la matriz de coeficientes técnicos (**A**)\n",
        "*  se define el arreglo con las condiciones límites o restricciones (**b**)\n",
        "\n",
        "**Nota importante**: antes de definir **A** y **b** se llevan las inecuaciones a una forma estándar. Es decir que todas queden en el mismo sentido.\n",
        "\n",
        "**inecuaciones iniciales**\n",
        "\n",
        "x + y >= 50\n",
        "\n",
        "x  - y <= 20\n",
        "\n",
        "x >= 0\n",
        "\n",
        "y >= 0\n",
        "\n",
        "Es necesario transformar la segunda inecuación en una del tipo **mayor igual**, para lograrlo se multiplican ambos lados de la inecuación por -1.\n",
        "\n",
        "**inecuaciones transformadas**\n",
        "\n",
        "   x + y >=  50\n",
        "   \n",
        "    \n",
        " \\-x + y >= -20\n",
        "\n",
        " x >= 0\n",
        "\n",
        " y >= 0\n",
        "\n",
        "De donde:\n",
        "\n",
        "A=[[1, -1, 1, 0], [1, 1, 0, 1]]\n",
        "\n",
        "b= [50, -20, 0, 0]\n",
        "\n",
        "\n"
      ]
    },
    {
      "metadata": {
        "id": "fsLKvF04QI1a"
      },
      "cell_type": "code",
      "source": [
        "# Este código presenta la solución de un ejercicio de forma matricial\n",
        "\n",
        "print (\"Solución matricial\")\n",
        "# Importar la librería que se va a utilizar\n",
        "import cvxpy as cvx\n",
        "\n",
        "# Crear un arreglo con las variables a optimizar\n",
        "arr_x = cvx.Variable((2,1))\n",
        "\n",
        "# Crear el arreglo con los coeficientes de costos\n",
        "arr_c =[3, 8]\n",
        "\n",
        "# Definir la función objetivo\n",
        "obj_00_arr = cvx.Minimize(arr_c @ arr_x)\n",
        "\n",
        "# Establecer el arreglo los coeficientes técnicos\n",
        "arr_A=[[1, -1, 1, 0], [1, 1, 0, 1]]\n",
        "\n",
        "# Crear un arreglo con condiciones límites (restricciones)\n",
        "arr_b= [[50, -20, 0, 0]]\n",
        "\n",
        "# Establecer las restricciones en forma matricial\n",
        "arr_restricciones = [arr_A @ arr_x >= arr_b]\n",
        "\n",
        "# Configurar el problema\n",
        "prob_00_arr = cvx.Problem(obj_00_arr, arr_restricciones)\n",
        "\n",
        "# Obtener el valor óptimo, actualizar el estado del problema\n",
        "#y los valores de todas las variables del problema\n",
        "prob_00_arr.solve()\n",
        "\n",
        "# Mostrar el estado de la solución matricial\n",
        "print(\"Estado de la solución matricial:\", prob_00_arr.status)\n",
        "\n",
        "# Mostrar el valor óptimo de la función objetivo matricial\n",
        "print(\"Valor óptimo de la función objetivo matricial:\", prob_00_arr.value)\n",
        "\n",
        "# Mostrar los valores óptimos de las variables de decisión matricial\n",
        "print(\"Valores óptimos de las variables de decisión matricial:\",\n",
        "      arr_x[0].value, arr_x[1].value, \"\\n\")"
      ],
      "execution_count": null,
      "outputs": []
    },
    {
      "cell_type": "markdown",
      "source": [
        "## Solución matricial cargando los datos desde una url"
      ],
      "metadata": {
        "id": "vswWuRIxYIj4"
      }
    },
    {
      "cell_type": "code",
      "source": [
        "# Este código presenta la solución de un ejercicio de forma matricial\n",
        "# cargando los datos desde una url\n",
        "\n",
        "print (\"Solución matricial obteniendo datos desde una url\")\n",
        "# Importar las librerías que se van a utilizar\n",
        "import numpy as np\n",
        "import cvxpy as cvx\n",
        "\n",
        "# Crear un arreglo con las variables a optimizar\n",
        "arr_url_x = cvx.Variable((2,1))\n",
        "\n",
        "# Crear el arreglo con los coeficientes de costos\n",
        "arr_url_c = cvx.Parameter((2,1))\n",
        "\n",
        "# Cargar coeficientes de costos desde una url\n",
        "# Establecer la ruta de los coeficientes de costos\n",
        "ruta_c ='https://docs.google.com/spreadsheets/d/e/2PACX-1vRFLriI2aliprDmDCCKXKz\\\n",
        "8dBQFZGSrw7We_bq6tQKXPdDpAffIjtZ9fau9HhXJIPfelNZQ1hpBY9fH/pub?output=csv'\n",
        "\n",
        "# Cargar los coeficientes de costos con el método np.loadtxt()\n",
        "arr_url_c = np.loadtxt(ruta_c, delimiter=\",\", dtype=float)\n",
        "print(\"Los coeficientes de costos son: \\n\", arr_url_c, \"\\n\")\n",
        "\n",
        "# Definir la función objetivo\n",
        "obj_00_arr_url = cvx.Minimize(arr_url_c @ arr_url_x)\n",
        "\n",
        "# Crear el arreglo con los coeficientes técnicos\n",
        "arr_url_A = cvx.Parameter((4,2))\n",
        "\n",
        "# Cargar los coeficientes técnicos desde una url\n",
        "# Establecer la ruta de los coeficientes técnicos\n",
        "ruta_A ='https://docs.google.com/spreadsheets/d/e/2PACX-1vSwX-JTXjqsm2fM7pJmvw\\\n",
        "UbSUb8QQdhCPscJTSLLe_FS8NSsTR_WeqPbzOz40SVo_gnVr5EU4PN9P_r/pub?output=csv'\n",
        "\n",
        "# Cargar el arreglo con los coeficientes técnicos con el método np.loadtxt()\n",
        "arr_url_A = np.loadtxt(ruta_A, delimiter=\",\", dtype=float)\n",
        "print(\"Los coeficientes técnicos son: \\n\", arr_url_A, \"\\n\")\n",
        "\n",
        "# Crear el arreglo con las restricciones\n",
        "arr_url_b = cvx.Parameter((4,1))\n",
        "\n",
        "# Cargar las restricciones desde una url\n",
        "# Establecer la ruta de las restricciones\n",
        "ruta_b='https://docs.google.com/spreadsheets/d/e/2PACX-1vSILEeSPXklgIr36YnJe\\\n",
        "Kw1Ab4tFYF4x04IxqhCrDfyYzsqxmPEHjz1ZjKeGQh2IcELgDzu0sskTXCF/pub?output=csv'\n",
        "\n",
        "# Cargar el arreglo con las restricciones con el método np.loadtxt()\n",
        "arr_url_b= np.loadtxt(ruta_b, delimiter=\",\", dtype=float).reshape((4,1))\n",
        "print(\"Las restricciones son: \\n\", arr_url_b, \"\\n\")\n",
        "\n",
        "# Establecer las restricciones en forma matricial\n",
        "arr_url_restricciones = [arr_url_A @ arr_url_x >= arr_url_b]\n",
        "\n",
        "# Configurar el problema\n",
        "prob_00_arr_url = cvx.Problem(obj_00_arr_url, arr_url_restricciones)\n",
        "\n",
        "# Obtener el valor óptimo, actualizar el estado del problema\n",
        "#y los valores de todas las variables del problema\n",
        "prob_00_arr_url.solve()\n",
        "\n",
        "# Mostrar el estado de la solución matricial\n",
        "print(\"Estado de la solución matricial:\", prob_00_arr_url.status)\n",
        "\n",
        "# Mostrar el valor óptimo de la función objetivo matricial\n",
        "print(\"Valor óptimo de la función objetivo matricial:\", prob_00_arr_url.value)\n",
        "\n",
        "# Mostrar los valores óptimos de las variables de decisión matricial\n",
        "print(\"Valores óptimos de las variables de decisión matricial:\",\n",
        "      arr_url_x[0].value, arr_url_x[1].value, \"\\n\")"
      ],
      "metadata": {
        "id": "9ikbGM7mYTz8"
      },
      "execution_count": null,
      "outputs": []
    },
    {
      "cell_type": "markdown",
      "source": [
        "## Ejemplo 01: Industrias Felicidad\n",
        "\n",
        "Industrias Felicidad S. A. produce mezcla para tortas utilizando un molino. Para producir una tonelada de mezcla para tortas se requieren dos horas de trabajo del molino y tres horas de trabajo en la sección de empacado.\n",
        "\n",
        "El molino solo puede estar en funcionamiento diez horas diarias, mientras que la sección de empacado puede trabajar hasta 16 horas diarias.\n",
        "\n",
        "Cada tonelada de mezcla para tortas se vende a 250.000 pesos y tiene un costo de producción de 180.000 pesos.\n",
        "\n",
        "Calcule la producción diaria de mezcla para tortas para maximizar el ingreso por ventas."
      ],
      "metadata": {
        "id": "-jgP9xx3Iu1_"
      }
    },
    {
      "cell_type": "code",
      "source": [
        "# Solución algebraica\n",
        "\n",
        "# Importar la librería que se va a utilizar\n",
        "import cvxpy as cvx\n",
        "\n",
        "# Crear la variable de decisión\n",
        "qTorta = cvx.Variable()\n",
        "\n",
        "\n",
        "# Definir la función objetivo para maximizar el ingreso\n",
        "objIndFel = cvx.Maximize(250000*qTorta)\n",
        "\n",
        "# Establecer las restricciones\n",
        "restriccionesIndFel = [\n",
        "\n",
        "# Restricción de capacidad de molino\n",
        "2*qTorta <= 10,\n",
        "\n",
        "# Restricción de capacidad de empacado\n",
        "3*qTorta<= 16,\n",
        "\n",
        "# Restricción de no negatividad\n",
        "qTorta >= 0\n",
        "]\n",
        "\n",
        "# Configurar el problema\n",
        "probIndFel = cvx.Problem(objIndFel, restriccionesIndFel)\n",
        "\n",
        "# Obtener el valor óptimo\n",
        "probIndFel.solve()\n",
        "\n",
        "# Mostrar el estado de la solución\n",
        "print(\"Estado de la solución:\", probIndFel.status)\n",
        "\n",
        "# Mostrar el valor óptimo de la función objetivo\n",
        "print(\"Ingreso máximo:\", probIndFel.value)\n",
        "\n",
        "# Mostrar los valores óptimos de las variables de decisión\n",
        "print(\"Cantidad de mezcla de tortas que maximiza el ingreso por ventas:\",\n",
        "      qTorta.value)"
      ],
      "metadata": {
        "id": "KZrbP3LaUK4J",
        "outputId": "d4efc1e7-3589-44d4-c1f2-6b1c33591c27",
        "colab": {
          "base_uri": "https://localhost:8080/"
        }
      },
      "execution_count": 1,
      "outputs": [
        {
          "output_type": "stream",
          "name": "stdout",
          "text": [
            "Estado de la solución: optimal\n",
            "Ingreso máximo: 1249999.9989153617\n",
            "Cantidad de mezcla de tortas que maximiza el ingreso por ventas: 4.9999999956614465\n"
          ]
        }
      ]
    },
    {
      "cell_type": "code",
      "source": [
        "# Solución matricial\n",
        "# Escriba acá el código para resolver de forma matricial el ejercicio anterior\n"
      ],
      "metadata": {
        "id": "sauXWi-mkvoP"
      },
      "execution_count": null,
      "outputs": []
    },
    {
      "metadata": {
        "id": "vC4A8CoVl6wo"
      },
      "cell_type": "markdown",
      "source": [
        "## Ejemplo 02: Compañía Reddy Mikks\n",
        "\n",
        "Tomado del libro de [TAHA, 2012](https://fad.unsa.edu.pe/bancayseguros/wp-content/uploads/sites/4/2019/03/investigacic3b3n-de-operaciones-9na-edicic3b3n-hamdy-a-taha-fl.pdf), ejemplo 2.1-1 página 13.\n",
        "\n",
        "Reddy Mikks se propone determinar la combinación óptima de pinturas para interiores y exteriores que maximice la utilidad diaria total.\n",
        "\n",
        "Variables de decisión:\n",
        "\n",
        "Xi = toneladas producidas diariamente de la pintura tipo i.\n",
        "Sea i {1 = para exteriores, 2 = para interiores}\n",
        "\n",
        "Función objetivo:\n",
        "Max Z = 5000X1 + 4000X2\n",
        "\n",
        "Restricciones:\n",
        "\n",
        "Consumo de M1 para ambas pinturas:  \t\t6X1 + 4X2 ≤ 24\n",
        "\n",
        "Consumo de M2 para ambas pinturas:\t \tX1 + 2X2 ≤ 6\n",
        "\n",
        "Límites de demanda diaria:\t\t\tX2 – X1  ≤ 1\n",
        "\n",
        "Límites de demanda diaria para pintura de interiores:\t\tX2  ≤ 2\n",
        "\n",
        "No negatividad:  \t\t\t Xi ≥ 0 para todo i\n"
      ]
    },
    {
      "metadata": {
        "id": "Jj3FjipalypH"
      },
      "cell_type": "code",
      "source": [
        "# Ejemplo 2.1-1 del libro de TAHA (Compañía Reddy Mikks)\n",
        "# Solución algebraica\n",
        "\n",
        "# Importar la librería que se va a utilizar\n",
        "import cvxpy as cvx\n",
        "\n",
        "# Crear las variables de decisión\n",
        "exterior = cvx.Variable()\n",
        "interior = cvx.Variable()\n",
        "\n",
        "\n",
        "# Definir la función objetivo para maximizar el ingreso\n",
        "objRM = cvx.Maximize(5000*exterior + 4000*interior)\n",
        "\n",
        "# Establecer las restricciones\n",
        "restriccionesRM = [\n",
        "\n",
        "# Consumo de materia prima M1\n",
        "6*exterior + 4*interior <= 24,\n",
        "\n",
        "# Consumo de materia prima M2\n",
        "1*exterior + 2*interior <= 6,\n",
        "\n",
        "# Límites de demanda diaria\n",
        "interior - exterior <= 1,\n",
        "\n",
        "# Demanda diaria para pintura de interiores\n",
        "interior <= 2,\n",
        "\n",
        "# Restricción de no negatividad\n",
        "exterior >= 0,\n",
        "\n",
        "interior >= 0\n",
        "\n",
        "]\n",
        "\n",
        "# Configurar el problema\n",
        "probRM = cvx.Problem(objRM, restriccionesRM)\n",
        "\n",
        "# Obtener el valor óptimo\n",
        "probRM.solve()\n",
        "\n",
        "# Mostrar el estado de la solución\n",
        "print(\"Estado de la solución:\", probRM.status)\n",
        "\n",
        "# Mostrar el valor óptimo de la función objetivo sin aproximaciones\n",
        "print(\"Utilidad máxima SIN aproximaciones:\", probRM.value)\n",
        "\n",
        "# Mostrar el valor óptimo de la función objetivo aproximado a dos decimales\n",
        "print(\"Utilidad máxima aproximada a dos decimales:\", \"%.2f\"% probRM.value)\n",
        "\n",
        "# Mostrar los valores óptimos de las variables de decisión\n",
        "print(\"Toneladas de pinturas para exteriores que optimizan las utilidades\",\n",
        "      \"SIN aproximaciones:\", exterior.value)\n",
        "print(\"Toneladas de pinturas para exteriores que optimizan las utilidades:\",\n",
        "      \"%.2f\"% exterior.value)\n",
        "print(\"Toneladas de pinturas para interiores que optimizan las utilidades\",\n",
        "      \"SIN aproximaciones:\", interior.value)\n",
        "print(\"Toneladas de pinturas para interiores que optimizan las utilidades:\",\n",
        "      \"%.2f\"% interior.value)"
      ],
      "execution_count": null,
      "outputs": []
    },
    {
      "cell_type": "code",
      "source": [
        "# Solución matricial\n",
        "# Escriba acá el código para resolver de forma matricial el ejercicio anterior\n"
      ],
      "metadata": {
        "id": "q3NoT9SllA_E"
      },
      "execution_count": null,
      "outputs": []
    },
    {
      "metadata": {
        "id": "HViZdbUvh3cU"
      },
      "cell_type": "markdown",
      "source": [
        "## Ejemplo 03: problema de la dieta\n",
        "\n",
        "Tomado del libro de [TAHA, 2012](https://fad.unsa.edu.pe/bancayseguros/wp-content/uploads/sites/4/2019/03/investigacic3b3n-de-operaciones-9na-edicic3b3n-hamdy-a-taha-fl.pdf), ejemplo 2.1-1 página 24.\n",
        "\n",
        "Variables de decisión:\n",
        "\n",
        "X1: Libras de maíz en la mezcla diaria\n",
        "\n",
        "X2: Libras de soya en la mezcla diaria\n",
        "\n",
        "Función objetivo:\t\tMinimizar Z=0,3X1+0,9X2\n",
        "\n",
        "Restricciones:\n",
        "\n",
        "Necesidades dietéticas de proteína\t\t0,09X1+0,6X2 ≥0,3(X1+X2)\n",
        "\n",
        "Necesidades dietéticas de fibra\t\t0,02X1+0,06X2 ≤0,05(X1+X2)\n",
        "\n",
        "Consumo mínimo de mezcla diaria\t\tX1+X2≥800\n",
        "\n",
        "No negatividad\t\t\t\tX1, X2 ≥0\n",
        "\n",
        "\n",
        "Organizando las ecuaciones se obtiene:\n",
        "\n",
        "Necesidades dietéticas de proteína\t\t0,21X1-0,30X2 ≤0\n",
        "\n",
        "Necesidades dietéticas de fibra\t\t0,03X1-0,01X2 ≥0\n",
        "\n",
        "Consumo mínimo de mezcla diaria\t\tX1+X2≥800\n",
        "\n",
        "No negatividad\t\t\t\tX1, X2 ≥0\n",
        "\n"
      ]
    },
    {
      "metadata": {
        "id": "DeKpD7K7k4GR",
        "outputId": "c2177b58-37a2-4808-c28a-29b22f8b06d7",
        "colab": {
          "base_uri": "https://localhost:8080/"
        }
      },
      "cell_type": "code",
      "source": [
        "# Ejemplo 2.2-2 del libro de TAHA (Problema de la dieta)\n",
        "# Solución algebraica\n",
        "\n",
        "# Importar la librería que se va a utilizar\n",
        "import cvxpy as cvx\n",
        "\n",
        "# Crear las variables a optimizar\n",
        "maiz = cvx.Variable()\n",
        "soya = cvx.Variable()\n",
        "\n",
        "# Definir la función objetivo para minimizar el costo\n",
        "objDieta = cvx.Minimize(0.3*maiz + 0.9*soya)\n",
        "\n",
        "# Establecer las restricciones\n",
        "restriccionesDieta = [\n",
        "\n",
        "# Necesidades dietéticas de proteína\n",
        "0.21*maiz - 0.3*soya <= 0,\n",
        "\n",
        "# Necesidades dietéticas de fibra\n",
        "0.03*maiz - 0.01*soya >= 0,\n",
        "\n",
        "# Consumo mínimo de mezlca diaria\n",
        "soya + maiz >= 800,\n",
        "\n",
        "# Restricción de no negatividad\n",
        "maiz >= 0,\n",
        "soya >= 0\n",
        "]\n",
        "\n",
        "# Configurar el problema\n",
        "probDieta = cvx.Problem(objDieta, restriccionesDieta)\n",
        "\n",
        "# Obtener el valor óptimo\n",
        "probDieta.solve()\n",
        "\n",
        "# Mostrar el estado de la solución\n",
        "print(\"Estado de la solucion:\", probDieta.status)\n",
        "\n",
        "# Mostrar el valor óptimo de la función objetivo sin aproximaciones\n",
        "print(\"Costo mínimo SIN aproximaciones:\", probDieta.value)\n",
        "\n",
        "# Mostrar el valor óptimo de la función objetivo aproximado a dos decimales\n",
        "print(\"Costo mínimo aproximada a dos decimales:\", \"%.2f\"% probDieta.value, \"\\n\")\n",
        "\n",
        "# Mostrar los valores óptimos de las variables de decisión sin aproximaciones\n",
        "print(\"Libras de maíz que minimizan el costo SIN aproximaciones:\",\n",
        "      maiz.value)\n",
        "print(\"Libras de soya que minimizan el costo SIN aproximaciones:\",\n",
        "      soya.value, \"\\n\")\n",
        "\n",
        "# Mostrar valores óptimos de las variables de decisión aproximados\n",
        "#a dos decimales\n",
        "print(\"Libras de maíz que minimizan el costo aproximada a dos decimales:\",\n",
        "      \"%.2f\"%  maiz.value)\n",
        "print(\"Libras de soya que minimizan el costo aproximada a dos decimales:\",\n",
        "      \"%.2f\"%  soya.value)"
      ],
      "execution_count": 2,
      "outputs": [
        {
          "output_type": "stream",
          "name": "stdout",
          "text": [
            "Estado de la solucion: optimal\n",
            "Costo mínimo SIN aproximaciones: 437.64705882254106\n",
            "Costo mínimo aproximada a dos decimales: 437.65 \n",
            "\n",
            "Libras de maíz que minimizan el costo SIN aproximaciones: 470.58823529023397\n",
            "Libras de soya que minimizan el costo SIN aproximaciones: 329.4117647060787 \n",
            "\n",
            "Libras de maíz que minimizan el costo aproximada a dos decimales: 470.59\n",
            "Libras de soya que minimizan el costo aproximada a dos decimales: 329.41\n"
          ]
        }
      ]
    },
    {
      "cell_type": "code",
      "source": [
        "# Solución matricial\n",
        "# Escriba acá el código para resolver de forma matricial el ejercicio anterior\n",
        "\n"
      ],
      "metadata": {
        "id": "W-boDuFJlGRv"
      },
      "execution_count": null,
      "outputs": []
    },
    {
      "cell_type": "markdown",
      "source": [
        "# Ejercicios"
      ],
      "metadata": {
        "id": "hfp66KZgVdSA"
      }
    },
    {
      "cell_type": "markdown",
      "source": [
        "## Bank One\n",
        "\n",
        "Resuelva con CVXPY el ejemplo 2.4-1 (Modelo de préstamo bancario) del libro de (TAHA, 2012) página 35.\n",
        "\n"
      ],
      "metadata": {
        "id": "4kpeP548VfWv"
      }
    },
    {
      "cell_type": "code",
      "source": [
        "# Este código presenta la solución de un ejercicio de forma algebraica\n",
        "\n",
        "print (\"Solución algebraica\")\n",
        "# Importar la librería que se va a utilizar\n",
        "import cvxpy as cvx\n",
        "\n",
        "# Crear las variables a optimizar\n",
        "\n",
        "x1 = préstamos personales\n",
        "x2 = préstamos para automóvil\n",
        "x3 = préstamos para casa\n",
        "x4 = préstamos agrícolas\n",
        "x5 = préstamos comerciales\n",
        "\n",
        "# Definir la función objetivo para maximizar el rendimiento neto\n",
        "Interés total = .126x1 + .1209x2 + .1164x3 + .11875x4 + .098x5\n",
        "\n",
        "Maximizar z = Interes total – Deuda impagable\n",
        "\n",
        "# Establecer las restricciones\n",
        "x1 + x2 + x3 + x4 + x5 <= 12\n",
        "x4 + x5 >= .4(x1 + x2 + x3 + x4 + x5)\n",
        "x3 >= .5(x1 + x2 + x3)\n",
        ".06x1 + .03x2 - .01x3 + .01x4 - .02x5 <= 0\n",
        "x1 Ú >=,x2 >= 0,x3 >= 0,x4 >= 0,x5 >= 0"
      ],
      "metadata": {
        "id": "n2v2uvLkZD0s",
        "outputId": "88d3f348-7347-424e-8a27-bd68b18abdcf",
        "colab": {
          "base_uri": "https://localhost:8080/",
          "height": 141
        }
      },
      "execution_count": 3,
      "outputs": [
        {
          "output_type": "error",
          "ename": "SyntaxError",
          "evalue": "ignored",
          "traceback": [
            "\u001b[0;36m  File \u001b[0;32m\"<ipython-input-3-d49355bb0c49>\"\u001b[0;36m, line \u001b[0;32m16\u001b[0m\n\u001b[0;31m    Interés total = .126x1 + .1209x2 + .1164x3 + .11875x4 + .098x5\u001b[0m\n\u001b[0m                       ^\u001b[0m\n\u001b[0;31mSyntaxError\u001b[0m\u001b[0;31m:\u001b[0m invalid decimal literal\n"
          ]
        }
      ]
    },
    {
      "cell_type": "markdown",
      "source": [
        "## Hawaii Sugar Company\n",
        "\n",
        "Resuelva con CVXPY el ejercicio 7 del libro de (TAHA, 2012) página 61."
      ],
      "metadata": {
        "id": "AWpJFnkfZE8X"
      }
    },
    {
      "cell_type": "code",
      "source": [
        "# Resuelva de forma matricial el ejercicio\n"
      ],
      "metadata": {
        "id": "nEHnjFNraLvf"
      },
      "execution_count": null,
      "outputs": []
    },
    {
      "cell_type": "markdown",
      "source": [
        "## Control de contaminación\n",
        "\n",
        "Resuelva con CVXPY el ejercicio 4 del libro de (TAHA, 2012) página 64."
      ],
      "metadata": {
        "id": "0hEyKcvlaM1p"
      }
    },
    {
      "cell_type": "code",
      "source": [
        "# Resuelva de forma matricial el ejercicio\n"
      ],
      "metadata": {
        "id": "yN0MvrQ4ao7v"
      },
      "execution_count": null,
      "outputs": []
    }
  ]
}